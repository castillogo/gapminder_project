{
 "cells": [
  {
   "cell_type": "code",
   "execution_count": 83,
   "metadata": {},
   "outputs": [
    {
     "data": {
      "text/plain": [
       "<matplotlib.axes._subplots.AxesSubplot at 0x2381a818148>"
      ]
     },
     "execution_count": 83,
     "metadata": {},
     "output_type": "execute_result"
    },
    {
     "data": {
      "image/png": "[encoded data removed]",
      "text/plain": [
       "<Figure size 432x288 with 1 Axes>"
      ]
     },
     "metadata": {
      "needs_background": "light"
     },
     "output_type": "display_data"
    }
   ],
   "source": [
    "import pandas as pd\n",
    "\n",
    "fn = 'gapminder_total_fertility.csv'\n",
    "\n",
    "# 1. Read a data file\n",
    "df = pd.read_csv(fn, index_col=0)\n",
    "\n",
    "# 2. Inspect the size of a DataFrame\n",
    "df.shape\n",
    "#df\n",
    "\n",
    "# 3. Convert column labels to integers\n",
    "df.set_axis(df.columns.astype(int), axis=1, inplace=True)\n",
    "\n",
    "# 4. Remove rows with missing values\n",
    "df.dropna()\n",
    "\n",
    "# 5. Inspect a single value\n",
    "y = df.loc['Germany', int(2000)]\n",
    "y\n",
    "\n",
    "# 6. Calculate the mean of a column\n",
    "x = df[1800].mean()\n",
    "x\n",
    "\n",
    "# 7. Filter rows with values in given range\n",
    "\n",
    "#df = df[df[2000].between(6.0, 6.5)]\n",
    "#df\n",
    "\n",
    "# 8. Mean fertility over time\n",
    "#df=df.mean().plot(kind='bar')\n",
    "#df.plot(figsize=(10,10))\n",
    "\n",
    "# 9. Three countries over time\n",
    "#df.loc['Germany', 'Sweden', 'Kenya'].transpose().plot()\n",
    "\n",
    "#import pylab as plt\n",
    "#df.loc[['Germany', 'France', 'Sweden'],:].T.plot()\n",
    "#df.index\n",
    "# 10. Countries with most frequent initials\n",
    "df.reset_index()['Total fertility rate'].str[0].value_counts().plot.bar()"
   ]
  },
  {
   "cell_type": "code",
   "execution_count": null,
   "metadata": {},
   "outputs": [],
   "source": []
  }
 ],
 "metadata": {
  "kernelspec": {
   "display_name": "Python 3",
   "language": "python",
   "name": "python3"
  },
  "language_info": {
   "codemirror_mode": {
    "name": "ipython",
    "version": 3
   },
   "file_extension": ".py",
   "mimetype": "text/x-python",
   "name": "python",
   "nbconvert_exporter": "python",
   "pygments_lexer": "ipython3",
   "version": "3.7.4"
  }
 },
 "nbformat": 4,
 "nbformat_minor": 2
}
